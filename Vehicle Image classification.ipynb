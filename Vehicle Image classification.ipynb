{
 "cells": [
  {
   "cell_type": "markdown",
   "metadata": {},
   "source": [
    "**Business Understanding**"
   ]
  },
  {
   "cell_type": "code",
   "execution_count": null,
   "metadata": {},
   "outputs": [],
   "source": [
    "#Load data \n",
    "#scale, resize the images\n",
    "#Inspect some of the images\n",
    "#display the Image classes"
   ]
  },
  {
   "cell_type": "code",
   "execution_count": null,
   "metadata": {},
   "outputs": [],
   "source": []
  },
  {
   "cell_type": "code",
   "execution_count": null,
   "metadata": {},
   "outputs": [],
   "source": []
  },
  {
   "cell_type": "code",
   "execution_count": null,
   "metadata": {},
   "outputs": [],
   "source": []
  },
  {
   "cell_type": "markdown",
   "metadata": {},
   "source": [
    "# Loading the Data"
   ]
  },
  {
   "cell_type": "code",
   "execution_count": 5,
   "metadata": {},
   "outputs": [],
   "source": [
    "#Importing libraries\n",
    "import numpy as np\n",
    "import pandas as pd\n",
    "from PIL import Image\n",
    "import os\n",
    "import tensorflow as tf\n",
    "from keras.preprocessing.image import ImageDataGenerator\n",
    "from tensorflow.keras.utils import array_to_img, img_to_array,load_img\n",
    "import matplotlib.pyplot as plt"
   ]
  },
  {
   "cell_type": "code",
   "execution_count": 6,
   "metadata": {},
   "outputs": [
    {
     "name": "stdout",
     "output_type": "stream",
     "text": [
      "Found 5587 images belonging to 7 classes.\n",
      "{'Auto Rickshaws': 0, 'Bikes': 1, 'Cars': 2, 'Motorcycles': 3, 'Planes': 4, 'Ships': 5, 'Trains': 6}\n"
     ]
    }
   ],
   "source": [
    "#Loading the data\n",
    "\n",
    "#Defining the main folder with subfolders for each class\n",
    "folder_path='vehicles'\n",
    "\n",
    "#creating an image data generator with rescaling\n",
    "datagen=ImageDataGenerator(rescale=1./255)\n",
    "\n",
    "#Loading the images from the different folders\n",
    "\n",
    "image_data=datagen.flow_from_directory(folder_path,target_size=(224,224),batch_size=32,class_mode='categorical')\n",
    "\n",
    "#Displaying the class labels and their indices\n",
    "\n",
    "print(image_data.class_indices)\n"
   ]
  },
  {
   "cell_type": "markdown",
   "metadata": {},
   "source": [
    "The dataset comprises a total of 5,587 images distributed across 7 classes. Each class has been assigned a unique label and corresponding index: Auto Rickshaws (0), Bikes (1), Cars (2), Motorcycles (3), Planes (4), Ships (5), and Trains (6)."
   ]
  },
  {
   "cell_type": "markdown",
   "metadata": {},
   "source": [
    "# Data Cleaning"
   ]
  },
  {
   "cell_type": "markdown",
   "metadata": {},
   "source": [
    "1. Checking for Duplicates"
   ]
  },
  {
   "cell_type": "markdown",
   "metadata": {},
   "source": [
    "2. Checking for corrupt images"
   ]
  },
  {
   "cell_type": "code",
   "execution_count": 10,
   "metadata": {},
   "outputs": [
    {
     "name": "stdout",
     "output_type": "stream",
     "text": [
      "Corrupt image found in Auto Rickshaws: vehicles\\Auto Rickshaws\\Auto Rickshaw (262).png - cannot identify image file 'vehicles\\\\Auto Rickshaws\\\\Auto Rickshaw (262).png'\n",
      "Corrupt image found in Auto Rickshaws: vehicles\\Auto Rickshaws\\Auto Rickshaw (276).jpg - cannot identify image file 'vehicles\\\\Auto Rickshaws\\\\Auto Rickshaw (276).jpg'\n",
      "Corrupt image found in Auto Rickshaws: vehicles\\Auto Rickshaws\\Auto Rickshaw (313).jpg - cannot identify image file 'vehicles\\\\Auto Rickshaws\\\\Auto Rickshaw (313).jpg'\n",
      "Corrupt image found in Auto Rickshaws: vehicles\\Auto Rickshaws\\Auto Rickshaw (315).jpg - cannot identify image file 'vehicles\\\\Auto Rickshaws\\\\Auto Rickshaw (315).jpg'\n",
      "Corrupt image found in Auto Rickshaws: vehicles\\Auto Rickshaws\\Auto Rickshaw (385).png - cannot identify image file 'vehicles\\\\Auto Rickshaws\\\\Auto Rickshaw (385).png'\n",
      "Corrupt image found in Auto Rickshaws: vehicles\\Auto Rickshaws\\Auto Rickshaw (418).jpg - cannot identify image file 'vehicles\\\\Auto Rickshaws\\\\Auto Rickshaw (418).jpg'\n",
      "Corrupt image found in Auto Rickshaws: vehicles\\Auto Rickshaws\\Auto Rickshaw (421).jpg - cannot identify image file 'vehicles\\\\Auto Rickshaws\\\\Auto Rickshaw (421).jpg'\n",
      "Corrupt image found in Auto Rickshaws: vehicles\\Auto Rickshaws\\Auto Rickshaw (429).jpg - cannot identify image file 'vehicles\\\\Auto Rickshaws\\\\Auto Rickshaw (429).jpg'\n",
      "Corrupt image found in Auto Rickshaws: vehicles\\Auto Rickshaws\\Auto Rickshaw (462).jpg - cannot identify image file 'vehicles\\\\Auto Rickshaws\\\\Auto Rickshaw (462).jpg'\n",
      "Corrupt image found in Auto Rickshaws: vehicles\\Auto Rickshaws\\Auto Rickshaw (483).jpg - cannot identify image file 'vehicles\\\\Auto Rickshaws\\\\Auto Rickshaw (483).jpg'\n",
      "Corrupt image found in Auto Rickshaws: vehicles\\Auto Rickshaws\\Auto Rickshaw (519).jpg - cannot identify image file 'vehicles\\\\Auto Rickshaws\\\\Auto Rickshaw (519).jpg'\n",
      "Corrupt image found in Auto Rickshaws: vehicles\\Auto Rickshaws\\Auto Rickshaw (554).jpg - cannot identify image file 'vehicles\\\\Auto Rickshaws\\\\Auto Rickshaw (554).jpg'\n",
      "Corrupt image found in Auto Rickshaws: vehicles\\Auto Rickshaws\\Auto Rickshaw (585).jpg - cannot identify image file 'vehicles\\\\Auto Rickshaws\\\\Auto Rickshaw (585).jpg'\n",
      "Corrupt image found in Auto Rickshaws: vehicles\\Auto Rickshaws\\Auto Rickshaw (617).jpg - cannot identify image file 'vehicles\\\\Auto Rickshaws\\\\Auto Rickshaw (617).jpg'\n",
      "Corrupt image found in Auto Rickshaws: vehicles\\Auto Rickshaws\\Auto Rickshaw (649).jpg - cannot identify image file 'vehicles\\\\Auto Rickshaws\\\\Auto Rickshaw (649).jpg'\n",
      "Corrupt image found in Auto Rickshaws: vehicles\\Auto Rickshaws\\Auto Rickshaw (671).png - cannot identify image file 'vehicles\\\\Auto Rickshaws\\\\Auto Rickshaw (671).png'\n",
      "Corrupt image found in Auto Rickshaws: vehicles\\Auto Rickshaws\\Auto Rickshaw (696).jpg - cannot identify image file 'vehicles\\\\Auto Rickshaws\\\\Auto Rickshaw (696).jpg'\n",
      "Corrupt image found in Auto Rickshaws: vehicles\\Auto Rickshaws\\Auto Rickshaw (730).jpg - cannot identify image file 'vehicles\\\\Auto Rickshaws\\\\Auto Rickshaw (730).jpg'\n",
      "Corrupt image found in Planes: vehicles\\Planes\\Plane (633).webp - cannot identify image file 'vehicles\\\\Planes\\\\Plane (633).webp'\n",
      "Corrupt image found in Planes: vehicles\\Planes\\Plane (718).webp - cannot identify image file 'vehicles\\\\Planes\\\\Plane (718).webp'\n",
      "\n",
      "Summary of Corrupt Images:\n",
      "Auto Rickshaws: 18 corrupt images\n",
      "Planes: 2 corrupt images\n",
      "\n",
      "Total corrupt images found: 20\n"
     ]
    }
   ],
   "source": [
    "#Checking for corrupt images\n",
    "\n",
    "# Dictionary to store counts per class\n",
    "corrupt_images = {}  \n",
    "\n",
    "# Counter for total corrupt images\n",
    "total_corrupt = 0  \n",
    "\n",
    "# Looping through class subfolders\n",
    "for category in os.listdir(folder_path):  \n",
    "    class_path = os.path.join(folder_path, category)\n",
    "    \n",
    "    if not os.path.isdir(class_path):  # Skip non-folder files\n",
    "        continue\n",
    "\n",
    "    corrupt_count = 0  # Counter for this class\n",
    "\n",
    "    for img_name in os.listdir(class_path):  # Loop through images in class\n",
    "        img_path = os.path.join(class_path, img_name)\n",
    "\n",
    "        try:\n",
    "            img = Image.open(img_path)  # Try opening the image\n",
    "            img.verify()  # Check if it's valid\n",
    "        except Exception as e:\n",
    "            corrupt_count += 1  # Increment class counter\n",
    "            total_corrupt += 1  # Increment total counter\n",
    "            print(f\"Corrupt image found in {category}: {img_path} - {e}\")\n",
    "\n",
    "    if corrupt_count > 0:\n",
    "        corrupt_images[category] = corrupt_count  # Store in dictionary\n",
    "\n",
    "# Print results\n",
    "print(\"\\nSummary of Corrupt Images:\")\n",
    "for category, count in corrupt_images.items():\n",
    "    corrupt_images= print(f\"{category}: {count} corrupt images\")\n",
    "\n",
    "print(f\"\\nTotal corrupt images found: {total_corrupt}\")\n"
   ]
  },
  {
   "cell_type": "markdown",
   "metadata": {},
   "source": [
    "**Interpretation**\n",
    "\n",
    "The dataset contains some corrupted images, including 20 from the Auto Rickshaws class and 2 from the Planes class, resulting in a total of 22 corrupted images."
   ]
  },
  {
   "cell_type": "code",
   "execution_count": 12,
   "metadata": {},
   "outputs": [
    {
     "name": "stdout",
     "output_type": "stream",
     "text": [
      "Cannot display path_to_corrupt_image1.jpg: [Errno 2] No such file or directory: 'path_to_corrupt_image1.jpg'\n",
      "Cannot display path_to_corrupt_image2.jpg: [Errno 2] No such file or directory: 'path_to_corrupt_image2.jpg'\n",
      "Cannot display path_to_corrupt_image3.jpg: [Errno 2] No such file or directory: 'path_to_corrupt_image3.jpg'\n"
     ]
    }
   ],
   "source": [
    "# Displaying the corrupted images\n",
    "for img_path in corrupt_images:\n",
    "    try:\n",
    "        img = Image.open(img_path)\n",
    "        plt.figure()\n",
    "        plt.imshow(img)\n",
    "        plt.axis(\"off\")\n",
    "        plt.title(f\"Corrupt Image: {os.path.basename(img_path)}\")\n",
    "        plt.show()\n",
    "    except Exception as e:\n",
    "        print(f\"Cannot display {img_path}: {e}\")\n"
   ]
  },
  {
   "cell_type": "markdown",
   "metadata": {},
   "source": [
    "**Interpretation**\n",
    "\n",
    "Displaying the corrupted images was not possible as the error displays since them being corrupted means that they are incomplete, damaged, or in an unrecognizable format."
   ]
  },
  {
   "cell_type": "code",
   "execution_count": 13,
   "metadata": {},
   "outputs": [
    {
     "name": "stdout",
     "output_type": "stream",
     "text": [
      "Error deleting path_to_corrupt_image1.jpg: [WinError 2] The system cannot find the file specified: 'path_to_corrupt_image1.jpg'\n",
      "Error deleting path_to_corrupt_image2.jpg: [WinError 2] The system cannot find the file specified: 'path_to_corrupt_image2.jpg'\n",
      "Error deleting path_to_corrupt_image3.jpg: [WinError 2] The system cannot find the file specified: 'path_to_corrupt_image3.jpg'\n",
      "\n",
      "Total deleted corrupt images: 3\n"
     ]
    }
   ],
   "source": [
    "#Deleting the corrupted images\n",
    "for img_path in corrupt_images:\n",
    "    try:\n",
    "        os.remove(img_path)  # Delete the file\n",
    "        print(f\"Deleted: {img_path}\")\n",
    "    except Exception as e:\n",
    "        print(f\"Error deleting {img_path}: {e}\")\n",
    "\n",
    "print(f\"\\nTotal deleted corrupt images: {len(corrupt_images)}\")"
   ]
  },
  {
   "cell_type": "code",
   "execution_count": null,
   "metadata": {},
   "outputs": [],
   "source": []
  },
  {
   "cell_type": "code",
   "execution_count": null,
   "metadata": {},
   "outputs": [],
   "source": []
  },
  {
   "cell_type": "code",
   "execution_count": null,
   "metadata": {},
   "outputs": [],
   "source": []
  },
  {
   "cell_type": "code",
   "execution_count": null,
   "metadata": {},
   "outputs": [],
   "source": []
  }
 ],
 "metadata": {
  "kernelspec": {
   "display_name": "Python 3",
   "language": "python",
   "name": "python3"
  },
  "language_info": {
   "codemirror_mode": {
    "name": "ipython",
    "version": 3
   },
   "file_extension": ".py",
   "mimetype": "text/x-python",
   "name": "python",
   "nbconvert_exporter": "python",
   "pygments_lexer": "ipython3",
   "version": "3.8.5"
  }
 },
 "nbformat": 4,
 "nbformat_minor": 4
}
